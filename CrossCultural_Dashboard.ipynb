{
 "cells": [
  {
   "cell_type": "markdown",
   "id": "36295cf9",
   "metadata": {},
   "source": [
    "\n",
    "# Cross‑Cultural Success Dashboard (Notebook)\n",
    "\n",
    "Run the **Hybrid Framework** notebook first so that it creates CSVs in `/mnt/data/artifacts/`.\n",
    "Then run this notebook to visualize and export a static HTML dashboard.\n"
   ]
  },
  {
   "cell_type": "code",
   "execution_count": null,
   "id": "0aa83348",
   "metadata": {},
   "outputs": [],
   "source": [
    "\n",
    "from pathlib import Path\n",
    "import pandas as pd\n",
    "import matplotlib.pyplot as plt\n",
    "\n",
    "ARTIFACTS = Path('/mnt/data/artifacts')\n",
    "ARTIFACTS.mkdir(parents=True, exist_ok=True)\n",
    "print('Artifacts path:', ARTIFACTS)\n"
   ]
  },
  {
   "cell_type": "code",
   "execution_count": null,
   "id": "a890b63b",
   "metadata": {},
   "outputs": [],
   "source": [
    "\n",
    "import pandas as pd, matplotlib.pyplot as plt\n",
    "from pathlib import Path\n",
    "\n",
    "ARTIFACTS = Path('/mnt/data/artifacts')\n",
    "\n",
    "by_country = pd.read_csv(ARTIFACTS/'metrics_by_country.csv')\n",
    "by_region  = pd.read_csv(ARTIFACTS/'metrics_by_region.csv')\n",
    "by_inst    = pd.read_csv(ARTIFACTS/'metrics_by_institution.csv')\n",
    "cal        = pd.read_csv(ARTIFACTS/'calibration_curve.csv')\n",
    "cm         = pd.read_csv(ARTIFACTS/'confusion_matrix.csv', index_col=0)\n",
    "scored     = pd.read_csv(ARTIFACTS/'scored_students.csv')\n",
    "\n",
    "display(by_country.head(), by_region.head(), by_inst.head())\n"
   ]
  },
  {
   "cell_type": "code",
   "execution_count": null,
   "id": "cc870ca2",
   "metadata": {},
   "outputs": [],
   "source": [
    "\n",
    "import matplotlib.pyplot as plt\n",
    "def barplot(df, x, y, title, fname):\n",
    "    plt.figure()\n",
    "    df_sorted = df.sort_values(y, ascending=False)\n",
    "    plt.bar(df_sorted[x].astype(str), df_sorted[y])\n",
    "    plt.xticks(rotation=45, ha='right')\n",
    "    plt.ylabel(y)\n",
    "    plt.title(title)\n",
    "    plt.tight_layout()\n",
    "    plt.savefig((ARTIFACTS/fname).as_posix())\n",
    "    plt.show()\n",
    "\n",
    "barplot(by_country, 'country', 'auroc', 'AUROC by Country', 'auroc_by_country.png')\n",
    "barplot(by_region,  'region', 'auroc',  'AUROC by Region',  'auroc_by_region.png')\n",
    "barplot(by_inst,    'institution', 'auroc','AUROC by Institution','auroc_by_inst.png')\n"
   ]
  },
  {
   "cell_type": "code",
   "execution_count": null,
   "id": "75d594b1",
   "metadata": {},
   "outputs": [],
   "source": [
    "\n",
    "# Positive prediction rate by country\n",
    "plt.figure()\n",
    "df = by_country.sort_values('pos_rate', ascending=False)\n",
    "plt.bar(df['country'].astype(str), df['pos_rate'])\n",
    "plt.xticks(rotation=45, ha='right')\n",
    "plt.ylabel('Positive Rate (flag rate)')\n",
    "plt.title('Selection Rate by Country')\n",
    "plt.tight_layout()\n",
    "plt.savefig((ARTIFACTS/'pos_rate_by_country.png').as_posix())\n",
    "plt.show()\n"
   ]
  },
  {
   "cell_type": "code",
   "execution_count": null,
   "id": "bb81db3f",
   "metadata": {},
   "outputs": [],
   "source": [
    "\n",
    "# Calibration\n",
    "plt.figure()\n",
    "plt.plot(cal['prob_pred_bin_mean'], cal['frac_pos'], marker='o')\n",
    "plt.plot([0,1],[0,1],'--')\n",
    "plt.xlabel('Predicted probability (bin mean)')\n",
    "plt.ylabel('Fraction of positives')\n",
    "plt.title('Calibration Curve')\n",
    "plt.tight_layout()\n",
    "plt.savefig((ARTIFACTS/'calibration_curve.png').as_posix())\n",
    "plt.show()\n"
   ]
  },
  {
   "cell_type": "code",
   "execution_count": null,
   "id": "bfea60d0",
   "metadata": {},
   "outputs": [],
   "source": [
    "\n",
    "# Top at-risk\n",
    "top = scored.sort_values('y_prob', ascending=False).head(50)\n",
    "top.to_csv(ARTIFACTS/'top_at_risk.csv', index=False)\n",
    "top.head(10)\n"
   ]
  },
  {
   "cell_type": "code",
   "execution_count": null,
   "id": "467c9291",
   "metadata": {},
   "outputs": [],
   "source": [
    "\n",
    "# Export static HTML\n",
    "import pandas as pd\n",
    "html = f'''\n",
    "<html><head><meta charset=\"utf-8\"><title>Cross‑Cultural Success Dashboard</title></head>\n",
    "<body style=\"font-family: Arial, sans-serif; padding: 16px;\">\n",
    "<h1>Cross‑Cultural Success Dashboard</h1>\n",
    "<h2>Performance</h2>\n",
    "<img src=\"auroc_by_country.png\" width=\"700\">\n",
    "<img src=\"auroc_by_region.png\" width=\"700\">\n",
    "<img src=\"auroc_by_inst.png\" width=\"700\">\n",
    "<h2>Fairness</h2>\n",
    "<img src=\"pos_rate_by_country.png\" width=\"700\">\n",
    "<h2>Calibration</h2>\n",
    "<img src=\"calibration_curve.png\" width=\"700\">\n",
    "<h2>Top At‑Risk (first 10)</h2>\n",
    "{pd.read_csv(ARTIFACTS/'top_at_risk.csv').head(10).to_html(index=False)}\n",
    "</body></html>\n",
    "'''\n",
    "out_path = ARTIFACTS/'dashboard.html'\n",
    "with open(out_path, 'w', encoding='utf-8') as f:\n",
    "    f.write(html)\n",
    "out_path.as_posix()\n"
   ]
  }
 ],
 "metadata": {},
 "nbformat": 4,
 "nbformat_minor": 5
}
